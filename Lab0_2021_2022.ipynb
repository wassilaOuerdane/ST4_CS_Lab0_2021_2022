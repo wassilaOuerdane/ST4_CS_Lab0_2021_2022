{
 "cells": [
  {
   "cell_type": "markdown",
   "metadata": {},
   "source": [
    "<center><img src='https://drive.google.com/uc?export=view&id=1qJ8NqAZolTBQY7lN-deZ8xEsU3dlUiLz' width=200></center>\n",
    "\n",
    "\n",
    "\n",
    "<h6><center></center></h6>\n",
    "\n",
    "<h1>\n",
    "<hr style=\" border:none; height:3px;\">\n",
    "<center>Recherche d'Information et traitement de données massives </center>\n",
    "    <center> Lab 0 : Mise en place des travaux pratiques </center>\n",
    "<hr style=\" border:none; height:3px;\">\n",
    "</h1>\n"
   ]
  },
  {
   "cell_type": "markdown",
   "metadata": {},
   "source": [
    "L'objectif de ce notebook est la prise en main du pipeline classique pour la partie pratique du cours Recherche d'Information et traitement de données massives.\n",
    "\n",
    "Les travaux pratiques vous seront tous proposés sous la forme de [Notebook](https://fr.wikipedia.org/wiki/Notebook_(programmation)) python. Chaque sujet (ou Lab) sera accessible de plusieurs manières :\n",
    "+ Sous la forme d'un dépôt Github.\n",
    "+ Sous la forme d'une archive sur Edunao.\n",
    "+ Sous la forme d'une archive sur Msteams.\n",
    "\n",
    "Plusieurs approches pour la mise en place des ces notebooks sont possibles."
   ]
  },
  {
   "cell_type": "markdown",
   "metadata": {},
   "source": [
    "Quelque soit l'approche choisie, il est fortement recommandé de :\n",
    "+ Créer sur votre machine, en local, un répertoire `ST4_Labs` dans lequel vous mettrez tous les travaux pratiques de ce cours.\n",
    "+ Telecharger (ou cloner) l'archive de chaque TP dans ce répertoire.\n"
    "+ Utiliser Google Chrome ou Firefox pour la suite.\n"
    
   ]
  },
  {
   "cell_type": "markdown",
   "metadata": {},
   "source": [
    "# Approche 1 (Recommandée) - à l'aide de [Google Colab](https://colab.research.google.com/)\n"
   ]
  },
  {
   "cell_type": "markdown",
   "metadata": {},
   "source": [
    "Cette option est recommandée car c'est l'option vous permettra d'éviter le plus de problèmes d'installation de bibliothèques et de dépendances nécéssaires pour la réalisation de ces travaux pratiques.  Cette option offre les avantages suivants :\n",
    "+ Aucune configuration requise\n",
    "+ Accès gratuit à des GPUs (non utile pour ce cours)\n",
    "+ Partage facile de votre travail (utile pour vous aider dans ce contexte d'enseignement à distance).\n",
    "\n",
    "Elle implique cependant de **disposer d'un compte Google**.\n",
    "\n",
    "Avec cette approche, plusieurs manières de travailler sont possibles selon que vous souhaitez ou non travailler depuis votre `Drive` Google ou sur votre répertoire local (c'est notamment important pour pouvoir acceder aux ressources et aux fichiers de données associés à chaque Lab).\n"
   ]
  },
  {
   "cell_type": "markdown",
   "metadata": {},
   "source": [
    "## Procédure Cas 1 : travail depuis votre répertoire local."
   ]
  },
  {
   "cell_type": "markdown",
   "metadata": {},
   "source": [
    "Dans cette approche, la procédure à suivre est la suivante :\n",
    "\n",
    "Après avoir téléchargé (ou cloné) l'archive du Lab : \n",
    "\n",
    "1. Lancer et connecter-vous à Google Colab : [https://colab.research.google.com/](https://colab.research.google.com/)\n",
    "2. Uploader ensuite le Lab (sujet sous la forme d'un notebook (fichier `.ipynb`))\n",
    "3. Télécharger les données associées au Lab en suivant les commandes ci-dessous.\n"
   ]
  },
  {
   "cell_type": "code",
   "execution_count": null,
   "metadata": {},
   "outputs": [],
   "source": [
    "from google.colab import files\n",
    "\n",
    "uploaded = files.upload()\n",
    "\n",
    "for fn in uploaded.keys():\n",
    "  print('User uploaded file \"{name}\" with length {length} bytes'.format(\n",
    "      name=fn, length=len(uploaded[fn])))"
   ]
  },
  {
   "cell_type": "markdown",
   "metadata": {},
   "source": [
    "Avec cette approche, un menu s'affiche vous permettant de télécharger un ensemble de fichiers qui seront ensuite stockés dans le dictionnaire python (`dict`) `uploaded`."
   ]
  },
  {
   "cell_type": "markdown",
   "metadata": {},
   "source": [
    "### Test\n",
    "Tester cette approche en téléchargeant le fichier `TIME.all` puis appliquer le code ci-dessous qui devrait s'exécuter sans problème.\n"
   ]
  },
  {
   "cell_type": "code",
   "execution_count": null,
   "metadata": {},
   "outputs": [],
   "source": [
    "def loadData(filename):\n",
    "    with open(filename, 'r') as f:\n",
    "        corpus = f.readlines()\n",
    "        return(corpus)"
   ]
  },
  {
   "cell_type": "code",
   "execution_count": null,
   "metadata": {},
   "outputs": [],
   "source": [
    "corpus = loadData('TIME.ALL')\n",
    "print(corpus)"
   ]
  },
  {
   "cell_type": "code",
   "execution_count": null,
   "metadata": {},
   "outputs": [],
   "source": [
    "assert corpus != None"
   ]
  },
  {
   "cell_type": "markdown",
   "metadata": {},
   "source": [
    "## Procédure Cas 2 : travail depuis votre drive."
   ]
  },
  {
   "cell_type": "markdown",
   "metadata": {},
   "source": [
    "Dans ce cas, il faut soit mettre votre répertoire de travail dans votre espace `Drive` soit copier le répertoire dans ce dernier.\n",
    "\n",
    "Dans ce cas, il vous faudra :\n",
    "\n",
    "1. Lancez et connectez-vous à Google Colab : [https://colab.research.google.com/](https://colab.research.google.com/)\n",
    "2. Mounter votre drive (voir le tutorial)\n",
    "3. Après cette opération, vous pourrez accéder aux fichiers de données et aux ressources par chemin relatif ou absolu depuis votre Drive."
   ]
  },
  {
   "cell_type": "markdown",
   "metadata": {},
   "source": [
    "### Test\n",
    "\n",
    "Comme tout à l'heure, nous pouvons vérifier pouvoir acceder et afficher le contenu du fichier `TIME.all` en nous placant au préalable dans le répertoire associé au Lab à l'aide de la commande `cd`\n"
   ]
  },
  {
   "cell_type": "code",
   "execution_count": null,
   "metadata": {},
   "outputs": [],
   "source": [
    "!cd \"mettre ici le nom du dossier\""
   ]
  },
  {
   "cell_type": "code",
   "execution_count": null,
   "metadata": {},
   "outputs": [],
   "source": [
    "corpus_drive = loadData('./Data/Time/TIME.ALL')\n",
    "print(corpus_drive)"
   ]
  },
  {
   "cell_type": "code",
   "execution_count": null,
   "metadata": {},
   "outputs": [],
   "source": [
    "assert corpus_drive != None"
   ]
  },
  {
   "cell_type": "markdown",
   "metadata": {},
   "source": [
    "# Approche 2 : avec [`mybinder`](https://mybinder.org/) \n",
    "\n",
    "On a ici les mêmes avantages qu'avec Colab avec notamment aucune configuration requise. Le lancement peut être un peu long car cette solution implique l'analyse du dépôt Github contenant le sujet pour la création d'un fichier Docker et le lancement de l'image Docker sur le cloud.\n",
    "\n",
    "Pour cette solution, il suffit de suivre les étapes suivantes :\n",
    "\n",
    " + Allez sur [mybinder](https://mybinder.org)\n",
    " + Saisissez l'URL de votre repo dans le champ \"Repo ou URL GitHub\", ici celui-ci [https://github.com/hudelotc/ST4_CS_Lab0_2020_2021.git](https://github.com/hudelotc/ST4_CS_Lab0_2020_2021.git)\n",
    " + Un lien est généré et il devrait être ouvert automatiquement à la fin de la création et du lancement de l'image Docker.\n",
    "\n",
    "Si vous souhaitez comprendre comment cela fonctionne, vous pouvez vous documenter [ici](https://github.com/alan-turing-institute/the-turing-way/blob/master/workshops/boost-research-reproducibility-binder/workshop-presentations/zero-to-binder-python.md#what-binder-provides).\n",
    "\n",
    "Vous pouvez maintenant tester cette approche de la manière suivante :\n",
    "\n"
   ]
  },
  {
   "cell_type": "code",
   "execution_count": null,
   "metadata": {},
   "outputs": [],
   "source": [
    "def loadData(filename):\n",
    "    with open(filename, 'r') as f:\n",
    "        corpus = f.readlines()\n",
    "        return(corpus)"
   ]
  },
  {
   "cell_type": "code",
   "execution_count": null,
   "metadata": {},
   "outputs": [],
   "source": [
    "corpus_drive = loadData('./Data/Time/TIME.ALL')\n",
    "print(corpus_drive)"
   ]
  },
  {
   "cell_type": "code",
   "execution_count": null,
   "metadata": {},
   "outputs": [],
   "source": [
    "assert corpus_drive != None"
   ]
  },
  {
   "cell_type": "markdown",
   "metadata": {},
   "source": [
    "Un des autres avantages de cette approche est qu'il est facile de partager votre travail à l'aide de partage de liens.\n",
    "\n",
    "Quelques points d'attention :\n",
    " + le délai d'attente pour les sessions est très court donc à chaque pause, vous pouvez être déconnecté et il est nécessaire de relancer la session.\n",
    " + pour sauvegarder votre travail, il est aussi nécessaire de le faire explicitement en téléchargeant le notebook (possible même si la session est deconnectée).\n",
    " + C'est une solution récente (nous n'avons pas un énorme récul sur cette solution).\n",
    " "
   ]
  },
  {
   "cell_type": "markdown",
   "metadata": {},
   "source": [
    "# Approche 3 : en local\n",
    "\n",
    "Cette approche suppose :\n",
    " + de disposer d'une version de python > 3.\n",
    " + d'avoir installé [`jupyter`](https://jupyter.org/)\n",
    " \n",
    "Si vous avez installé python à l'aide de la distribution Anaconda, vous avez normalement tout ce qu'il vous faut.\n",
    "\n",
    "Nous vous invitons à regarder le tutoriel pour cette approche puis à tester ensuite avec les commandes suivantes."
   ]
  },
  {
   "cell_type": "code",
   "execution_count": null,
   "metadata": {},
   "outputs": [],
   "source": [
    "def loadData(filename):\n",
    "    with open(filename, 'r') as f:\n",
    "        corpus = f.readlines()\n",
    "        return(corpus)"
   ]
  },
  {
   "cell_type": "code",
   "execution_count": null,
   "metadata": {},
   "outputs": [],
   "source": [
    "corpus_drive = loadData('./Data/Time/TIME.ALL')\n",
    "print(corpus_drive)"
   ]
  },
  {
   "cell_type": "code",
   "execution_count": null,
   "metadata": {},
   "outputs": [],
   "source": [
    "assert corpus_drive != None"
   ]
  },
  {
   "cell_type": "markdown",
   "metadata": {},
   "source": [
    "## Quelques commandes utiles\n",
    "\n",
    "Pour installer une dépendance, il suffit d'utiliser la commande `pip` précédée d'un point `!`. Par exemple, le code ci-dessous permet d'installer la bibliothèque `nltk` que nous allons utiliser dans plusieurs Labs."
   ]
  },
  {
   "cell_type": "code",
   "execution_count": null,
   "metadata": {},
   "outputs": [],
   "source": [
    "!pip install nltk"
   ]
  }
 ],
 "metadata": {
  "kernelspec": {
   "display_name": "Python 3.8.3 64-bit ('base': conda)",
   "language": "python",
   "name": "python38364bitbaseconda65d6e82d11a14f018fba09890192514d"
  },
  "language_info": {
   "codemirror_mode": {
    "name": "ipython",
    "version": 3
   },
   "file_extension": ".py",
   "mimetype": "text/x-python",
   "name": "python",
   "nbconvert_exporter": "python",
   "pygments_lexer": "ipython3",
   "version": "3.8.3"
  }
 },
 "nbformat": 4,
 "nbformat_minor": 4
}
